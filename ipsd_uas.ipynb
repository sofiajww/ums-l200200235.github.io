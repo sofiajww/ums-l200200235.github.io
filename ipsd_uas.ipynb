{
  "cells": [
    {
      "cell_type": "code",
      "execution_count": 4,
      "metadata": {
        "id": "WexdkohrQ-FK"
      },
      "outputs": [],
      "source": [
        "x = '/Users/sofia/ipsd/_chat.txt'"
      ]
    },
    {
      "cell_type": "code",
      "execution_count": 5,
      "metadata": {
        "id": "LHGVUwY3RVTb"
      },
      "outputs": [],
      "source": [
        "import re\n",
        "from collections import defaultdict"
      ]
    },
    {
      "cell_type": "code",
      "execution_count": 6,
      "metadata": {
        "id": "odAT8v2gzmah"
      },
      "outputs": [],
      "source": [
        "with open(x, 'r', encoding='utf-8') as file:\n",
        "    lines = file.readlines()"
      ]
    },
    {
      "cell_type": "code",
      "execution_count": 7,
      "metadata": {
        "id": "XbhNs1TrRhyS"
      },
      "outputs": [],
      "source": [
        "# Proses komentar berdasarkan grup\n",
        "group_data = defaultdict(list)\n",
        "current_group = None"
      ]
    },
    {
      "cell_type": "code",
      "execution_count": 9,
      "metadata": {
        "id": "uu2X7KuTRtnR"
      },
      "outputs": [],
      "source": [
        "for line in lines:\n",
        "    if \"INFORMATIKA 22\" in line:\n",
        "        current_group = \"INFORMATIKA 22i\"\n",
        "    elif \"GROUP NAME XYZ\" in line:  # Tambahkan nama grup lainnya\n",
        "        current_group = \"GROUP NAME XYZ\"\n",
        "\n",
        "    if current_group:\n",
        "        group_data[current_group].append(line)"
      ]
    },
    {
      "cell_type": "code",
      "execution_count": 10,
      "metadata": {
        "id": "f8zh7nlNRt_L"
      },
      "outputs": [],
      "source": [
        "# Pilih grup dengan jumlah komentar terbanyak\n",
        "selected_group = max(group_data, key=lambda k: len(group_data[k]))"
      ]
    },
    {
      "cell_type": "code",
      "execution_count": 11,
      "metadata": {
        "id": "UHCbeSJTRwEZ"
      },
      "outputs": [],
      "source": [
        "# Simpan data ke file teks\n",
        "with open('data_group.txt', 'w', encoding='utf-8') as file:\n",
        "    file.writelines(group_data[selected_group])"
      ]
    },
    {
      "cell_type": "code",
      "execution_count": 12,
      "metadata": {
        "id": "YgB1yOmBRyfZ"
      },
      "outputs": [],
      "source": [
        "import tarfile\n",
        "\n",
        "with tarfile.open(\"data_group.tar\", \"w\") as tar:\n",
        "    tar.add(\"C:/Users/sofia/data_group.csv\")\n",
        "\n"
      ]
    },
    {
      "cell_type": "code",
      "execution_count": 13,
      "metadata": {
        "id": "l_wjvHMfR4hh"
      },
      "outputs": [],
      "source": [
        "cleaned_lines = []\n",
        "for line in lines:\n",
        "    cleaned_line = re.sub(r'[^a-zA-Z0-9\\s.,!?]', '', line)\n",
        "    cleaned_lines.append(cleaned_line)\n",
        "\n",
        "# Simpan versi bersih\n",
        "with open('data_group_cleaned.txt', 'w', encoding='utf-8') as file:\n",
        "    file.writelines(cleaned_lines)"
      ]
    },
    {
      "cell_type": "code",
      "execution_count": 14,
      "metadata": {
        "colab": {
          "base_uri": "https://localhost:8080/"
        },
        "id": "IeTMizvASkHH",
        "outputId": "25490938-b6c6-426f-bcee-3e5d0b84906c"
      },
      "outputs": [
        {
          "name": "stdout",
          "output_type": "stream",
          "text": [
            "Cluster 3\n",
            "Cluster 0: disertakan, ums, it22\n",
            "Cluster 1: disertakan, ums, it22\n",
            "Cluster 2: disertakan, ums, it22\n",
            "Cluster 4\n",
            "Cluster 0: 10, 18, 19\n",
            "Cluster 1: 10, 18, 19\n",
            "Cluster 2: 10, 18, 19\n",
            "Cluster 3: 10, 18, 19\n",
            "Cluster 5\n",
            "Cluster 0: satria, belom, gedungnya\n",
            "Cluster 1: satria, belom, gedungnya\n",
            "Cluster 2: satria, belom, gedungnya\n",
            "Cluster 3: satria, belom, gedungnya\n",
            "Cluster 4: satria, belom, gedungnya\n"
          ]
        }
      ],
      "source": [
        "from sklearn.feature_extraction.text import TfidfVectorizer\n",
        "from sklearn.cluster import KMeans\n",
        "from sklearn.metrics import silhouette_score\n",
        "\n",
        "# Membaca data\n",
        "with open('data_group_cleaned.txt', 'r', encoding='utf-8') as file:\n",
        "    data = file.readlines()\n",
        "\n",
        "# TF-IDF\n",
        "vectorizer = TfidfVectorizer(stop_words='english')\n",
        "X = vectorizer.fit_transform(data)\n",
        "\n",
        "# KMeans Clustering\n",
        "for n_clusters in [3, 4, 5]:\n",
        "    kmeans = KMeans(n_clusters=n_clusters, random_state=42)\n",
        "    labels = kmeans.fit_predict(X)\n",
        "\n",
        "    print(f\"Cluster {n_clusters}\")\n",
        "    terms = vectorizer.get_feature_names_out()\n",
        "    for i in range(n_clusters):\n",
        "        top_terms = [terms[ind] for ind in kmeans.cluster_centers_.argsort()[0][-3:]]\n",
        "        print(f\"Cluster {i}: {', '.join(top_terms)}\")\n"
      ]
    },
    {
      "cell_type": "code",
      "execution_count": 15,
      "metadata": {
        "colab": {
          "base_uri": "https://localhost:8080/"
        },
        "id": "1rk3xHfnSnKI",
        "outputId": "6404842e-31d9-4611-e833-3e21e84a86e7"
      },
      "outputs": [
        {
          "name": "stdout",
          "output_type": "stream",
          "text": [
            "Laporan HTML tersimpan di: laporan.html\n"
          ]
        }
      ],
      "source": [
        "html_content = f\"\"\"\n",
        "<!DOCTYPE html>\n",
        "<html lang=\"en\">\n",
        "<head>\n",
        "    <meta charset=\"UTF-8\">\n",
        "    <meta name=\"viewport\" content=\"width=device-width, initial-scale=1.0\">\n",
        "    <title>Laporan Clustering</title>\n",
        "    <style>\n",
        "        body {{ font-family: Arial, sans-serif; margin: 20px; }}\n",
        "        h1 {{ color: #2c3e50; }}\n",
        "        .cluster {{ margin-bottom: 20px; }}\n",
        "    </style>\n",
        "</head>\n",
        "<body>\n",
        "    <h1>Laporan Hasil Clustering</h1>\n",
        "    <p>Data diproses dan dianalisis dengan metode TF-IDF dan algoritma KMeans untuk membuat 3, 4, dan 5 klaster.</p>\n",
        "    <h2>Analisis</h2>\n",
        "    <div>\n",
        "        <h3>Hasil Clustering (3 Klaster)</h3>\n",
        "        <p>... Analisis dan kata teratas ...</p>\n",
        "        <h3>Hasil Clustering (4 Klaster)</h3>\n",
        "        <p>... Analisis dan kata teratas ...</p>\n",
        "        <h3>Hasil Clustering (5 Klaster)</h3>\n",
        "        <p>... Analisis dan kata teratas ...</p>\n",
        "    </div>\n",
        "</body>\n",
        "</html>\n",
        "\"\"\"\n",
        "\n",
        "report_file = \"laporan.html\"\n",
        "with open(report_file, 'w', encoding='utf-8') as file:\n",
        "    file.write(html_content)\n",
        "\n",
        "print(f\"Laporan HTML tersimpan di: {report_file}\")\n"
      ]
    },
    {
      "cell_type": "code",
      "execution_count": null,
      "metadata": {
        "id": "SMGEoA1OSwE9"
      },
      "outputs": [],
      "source": []
    }
  ],
  "metadata": {
    "colab": {
      "provenance": []
    },
    "kernelspec": {
      "display_name": "Python 3",
      "name": "python3"
    },
    "language_info": {
      "codemirror_mode": {
        "name": "ipython",
        "version": 3
      },
      "file_extension": ".py",
      "mimetype": "text/x-python",
      "name": "python",
      "nbconvert_exporter": "python",
      "pygments_lexer": "ipython3",
      "version": "3.12.8"
    }
  },
  "nbformat": 4,
  "nbformat_minor": 0
}
