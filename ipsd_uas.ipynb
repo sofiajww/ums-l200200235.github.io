{
  "cells": [
    {
      "cell_type": "code",
      "execution_count": 18,
      "metadata": {
        "id": "WexdkohrQ-FK"
      },
      "outputs": [],
      "source": [
        "x = '/Users/sofia/data_group.txt'"
      ]
    },
    {
      "cell_type": "code",
      "execution_count": 19,
      "metadata": {
        "id": "LHGVUwY3RVTb"
      },
      "outputs": [],
      "source": [
        "import re\n",
        "from collections import defaultdict"
      ]
    },
    {
      "cell_type": "code",
      "execution_count": 36,
      "metadata": {
        "id": "odAT8v2gzmah"
      },
      "outputs": [],
      "source": [
        "with open(x, 'r', encoding='utf-8') as file:\n",
        "    lines = file.readlines()"
      ]
    },
    {
      "cell_type": "code",
      "execution_count": 37,
      "metadata": {
        "id": "XbhNs1TrRhyS"
      },
      "outputs": [],
      "source": [
        "# Proses komentar berdasarkan grup\n",
        "group_data = defaultdict(list)\n",
        "current_group = None"
      ]
    },
    {
      "cell_type": "code",
      "execution_count": 38,
      "metadata": {
        "id": "uu2X7KuTRtnR"
      },
      "outputs": [],
      "source": [
        "for line in lines:\n",
        "    if \"anak mami copi\" in line:\n",
        "        current_group = \"anak mami copi\"\n",
        "    elif \"GROUP NAME XYZ\" in line:  # Tambahkan nama grup lainnya\n",
        "        current_group = \"GROUP NAME XYZ\"\n",
        "\n",
        "    if current_group:\n",
        "        group_data[current_group].append(line)"
      ]
    },
    {
      "cell_type": "code",
      "execution_count": 39,
      "metadata": {
        "id": "f8zh7nlNRt_L"
      },
      "outputs": [],
      "source": [
        "# Pilih grup dengan jumlah komentar terbanyak\n",
        "selected_group = max(group_data, key=lambda k: len(group_data[k]))"
      ]
    },
    {
      "cell_type": "code",
      "execution_count": 40,
      "metadata": {
        "id": "UHCbeSJTRwEZ"
      },
      "outputs": [],
      "source": [
        "# Simpan data ke file teks\n",
        "with open('data_group.txt', 'w', encoding='utf-8') as file:\n",
        "    file.writelines(group_data[selected_group])"
      ]
    },
    {
      "cell_type": "code",
      "execution_count": 41,
      "metadata": {
        "id": "YgB1yOmBRyfZ"
      },
      "outputs": [],
      "source": [
        "import tarfile\n",
        "\n",
        "with tarfile.open(\"data_group.tar\", \"w\") as tar:\n",
        "    tar.add(\"C:/Users/sofia/data_group.csv\")\n",
        "\n"
      ]
    },
    {
      "cell_type": "code",
      "execution_count": 42,
      "metadata": {
        "id": "l_wjvHMfR4hh"
      },
      "outputs": [],
      "source": [
        "cleaned_lines = []\n",
        "for line in lines:\n",
        "    cleaned_line = re.sub(r'[^a-zA-Z0-9\\s.,!?]', '', line)\n",
        "    cleaned_lines.append(cleaned_line)\n",
        "\n",
        "# Simpan versi bersih\n",
        "with open('data_group_cleaned.txt', 'w', encoding='utf-8') as file:\n",
        "    file.writelines(cleaned_lines)"
      ]
    },
    {
      "cell_type": "code",
      "execution_count": 44,
      "metadata": {},
      "outputs": [
        {
          "name": "stdout",
          "output_type": "stream",
          "text": [
            "Defaulting to user installation because normal site-packages is not writeableNote: you may need to restart the kernel to use updated packages.\n",
            "\n",
            "Collecting sklearn\n",
            "  Downloading sklearn-0.0.post12.tar.gz (2.6 kB)\n",
            "  Installing build dependencies: started\n",
            "  Installing build dependencies: finished with status 'done'\n",
            "  Getting requirements to build wheel: started\n",
            "  Getting requirements to build wheel: finished with status 'error'\n"
          ]
        },
        {
          "name": "stderr",
          "output_type": "stream",
          "text": [
            "  error: subprocess-exited-with-error\n",
            "  \n",
            "  × Getting requirements to build wheel did not run successfully.\n",
            "  │ exit code: 1\n",
            "  ╰─> [15 lines of output]\n",
            "      The 'sklearn' PyPI package is deprecated, use 'scikit-learn'\n",
            "      rather than 'sklearn' for pip commands.\n",
            "      \n",
            "      Here is how to fix this error in the main use cases:\n",
            "      - use 'pip install scikit-learn' rather than 'pip install sklearn'\n",
            "      - replace 'sklearn' by 'scikit-learn' in your pip requirements files\n",
            "        (requirements.txt, setup.py, setup.cfg, Pipfile, etc ...)\n",
            "      - if the 'sklearn' package is used by one of your dependencies,\n",
            "        it would be great if you take some time to track which package uses\n",
            "        'sklearn' instead of 'scikit-learn' and report it to their issue tracker\n",
            "      - as a last resort, set the environment variable\n",
            "        SKLEARN_ALLOW_DEPRECATED_SKLEARN_PACKAGE_INSTALL=True to avoid this error\n",
            "      \n",
            "      More information is available at\n",
            "      https://github.com/scikit-learn/sklearn-pypi-package\n",
            "      [end of output]\n",
            "  \n",
            "  note: This error originates from a subprocess, and is likely not a problem with pip.\n",
            "error: subprocess-exited-with-error\n",
            "\n",
            "× Getting requirements to build wheel did not run successfully.\n",
            "│ exit code: 1\n",
            "╰─> See above for output.\n",
            "\n",
            "note: This error originates from a subprocess, and is likely not a problem with pip.\n"
          ]
        }
      ],
      "source": [
        "pip install sklearn"
      ]
    },
    {
      "cell_type": "code",
      "execution_count": 46,
      "metadata": {},
      "outputs": [
        {
          "name": "stdout",
          "output_type": "stream",
          "text": [
            "Defaulting to user installation because normal site-packages is not writeable\n",
            "Collecting scikit-learn\n",
            "  Downloading scikit_learn-1.6.0-cp312-cp312-win_amd64.whl.metadata (15 kB)\n",
            "Collecting numpy>=1.19.5 (from scikit-learn)\n",
            "  Downloading numpy-2.2.1-cp312-cp312-win_amd64.whl.metadata (60 kB)\n",
            "Collecting scipy>=1.6.0 (from scikit-learn)\n",
            "  Downloading scipy-1.15.0-cp312-cp312-win_amd64.whl.metadata (60 kB)\n",
            "Collecting joblib>=1.2.0 (from scikit-learn)\n",
            "  Using cached joblib-1.4.2-py3-none-any.whl.metadata (5.4 kB)\n",
            "Collecting threadpoolctl>=3.1.0 (from scikit-learn)\n",
            "  Using cached threadpoolctl-3.5.0-py3-none-any.whl.metadata (13 kB)\n",
            "Downloading scikit_learn-1.6.0-cp312-cp312-win_amd64.whl (11.1 MB)\n",
            "   ---------------------------------------- 0.0/11.1 MB ? eta -:--:--\n",
            "   - -------------------------------------- 0.5/11.1 MB 2.1 MB/s eta 0:00:06\n",
            "   --- ------------------------------------ 1.0/11.1 MB 2.6 MB/s eta 0:00:04\n",
            "   ----- ---------------------------------- 1.6/11.1 MB 2.6 MB/s eta 0:00:04\n",
            "   ------- -------------------------------- 2.1/11.1 MB 2.6 MB/s eta 0:00:04\n",
            "   --------- ------------------------------ 2.6/11.1 MB 2.5 MB/s eta 0:00:04\n",
            "   ----------- ---------------------------- 3.1/11.1 MB 2.6 MB/s eta 0:00:04\n",
            "   ------------- -------------------------- 3.7/11.1 MB 2.5 MB/s eta 0:00:03\n",
            "   --------------- ------------------------ 4.2/11.1 MB 2.4 MB/s eta 0:00:03\n",
            "   ---------------- ----------------------- 4.7/11.1 MB 2.5 MB/s eta 0:00:03\n",
            "   ------------------ --------------------- 5.2/11.1 MB 2.5 MB/s eta 0:00:03\n",
            "   -------------------- ------------------- 5.8/11.1 MB 2.5 MB/s eta 0:00:03\n",
            "   ---------------------- ----------------- 6.3/11.1 MB 2.5 MB/s eta 0:00:02\n",
            "   ------------------------ --------------- 6.8/11.1 MB 2.4 MB/s eta 0:00:02\n",
            "   ------------------------- -------------- 7.1/11.1 MB 2.4 MB/s eta 0:00:02\n",
            "   ---------------------------- ----------- 7.9/11.1 MB 2.5 MB/s eta 0:00:02\n",
            "   ------------------------------ --------- 8.4/11.1 MB 2.5 MB/s eta 0:00:02\n",
            "   ------------------------------- -------- 8.7/11.1 MB 2.5 MB/s eta 0:00:01\n",
            "   --------------------------------- ------ 9.2/11.1 MB 2.4 MB/s eta 0:00:01\n",
            "   ---------------------------------- ----- 9.7/11.1 MB 2.4 MB/s eta 0:00:01\n",
            "   ------------------------------------- -- 10.5/11.1 MB 2.5 MB/s eta 0:00:01\n",
            "   -------------------------------------- - 10.7/11.1 MB 2.5 MB/s eta 0:00:01\n",
            "   ---------------------------------------- 11.1/11.1 MB 2.4 MB/s eta 0:00:00\n",
            "Using cached joblib-1.4.2-py3-none-any.whl (301 kB)\n",
            "Downloading numpy-2.2.1-cp312-cp312-win_amd64.whl (12.6 MB)\n",
            "   ---------------------------------------- 0.0/12.6 MB ? eta -:--:--\n",
            "    --------------------------------------- 0.3/12.6 MB ? eta -:--:--\n",
            "   -- ------------------------------------- 0.8/12.6 MB 2.6 MB/s eta 0:00:05\n",
            "   ---- ----------------------------------- 1.6/12.6 MB 2.5 MB/s eta 0:00:05\n",
            "   ------ --------------------------------- 2.1/12.6 MB 2.7 MB/s eta 0:00:04\n",
            "   -------- ------------------------------- 2.6/12.6 MB 2.7 MB/s eta 0:00:04\n",
            "   --------- ------------------------------ 3.1/12.6 MB 2.6 MB/s eta 0:00:04\n",
            "   ----------- ---------------------------- 3.7/12.6 MB 2.6 MB/s eta 0:00:04\n",
            "   ------------- -------------------------- 4.2/12.6 MB 2.5 MB/s eta 0:00:04\n",
            "   -------------- ------------------------- 4.7/12.6 MB 2.6 MB/s eta 0:00:04\n",
            "   ---------------- ----------------------- 5.2/12.6 MB 2.5 MB/s eta 0:00:03\n",
            "   ----------------- ---------------------- 5.5/12.6 MB 2.5 MB/s eta 0:00:03\n",
            "   ------------------- -------------------- 6.0/12.6 MB 2.5 MB/s eta 0:00:03\n",
            "   --------------------- ------------------ 6.8/12.6 MB 2.5 MB/s eta 0:00:03\n",
            "   ----------------------- ---------------- 7.3/12.6 MB 2.5 MB/s eta 0:00:03\n",
            "   ------------------------ --------------- 7.6/12.6 MB 2.5 MB/s eta 0:00:03\n",
            "   ------------------------- -------------- 8.1/12.6 MB 2.5 MB/s eta 0:00:02\n",
            "   --------------------------- ------------ 8.7/12.6 MB 2.5 MB/s eta 0:00:02\n",
            "   ---------------------------- ----------- 8.9/12.6 MB 2.4 MB/s eta 0:00:02\n",
            "   ----------------------------- ---------- 9.4/12.6 MB 2.4 MB/s eta 0:00:02\n",
            "   -------------------------------- ------- 10.2/12.6 MB 2.5 MB/s eta 0:00:01\n",
            "   ---------------------------------- ----- 10.7/12.6 MB 2.5 MB/s eta 0:00:01\n",
            "   ----------------------------------- ---- 11.3/12.6 MB 2.5 MB/s eta 0:00:01\n",
            "   ------------------------------------- -- 11.8/12.6 MB 2.5 MB/s eta 0:00:01\n",
            "   ---------------------------------------  12.3/12.6 MB 2.5 MB/s eta 0:00:01\n",
            "   ---------------------------------------- 12.6/12.6 MB 2.4 MB/s eta 0:00:00\n",
            "Downloading scipy-1.15.0-cp312-cp312-win_amd64.whl (43.6 MB)\n",
            "   ---------------------------------------- 0.0/43.6 MB ? eta -:--:--\n",
            "   ---------------------------------------- 0.5/43.6 MB 2.8 MB/s eta 0:00:16\n",
            "    --------------------------------------- 1.0/43.6 MB 3.0 MB/s eta 0:00:15\n",
            "   - -------------------------------------- 1.6/43.6 MB 2.7 MB/s eta 0:00:16\n",
            "   - -------------------------------------- 2.1/43.6 MB 2.6 MB/s eta 0:00:16\n",
            "   -- ------------------------------------- 2.6/43.6 MB 2.6 MB/s eta 0:00:17\n",
            "   -- ------------------------------------- 3.1/43.6 MB 2.5 MB/s eta 0:00:17\n",
            "   --- ------------------------------------ 3.7/43.6 MB 2.4 MB/s eta 0:00:17\n",
            "   --- ------------------------------------ 4.2/43.6 MB 2.4 MB/s eta 0:00:17\n",
            "   ---- ----------------------------------- 4.7/43.6 MB 2.5 MB/s eta 0:00:16\n",
            "   ---- ----------------------------------- 5.2/43.6 MB 2.5 MB/s eta 0:00:16\n",
            "   ----- ---------------------------------- 5.8/43.6 MB 2.5 MB/s eta 0:00:16\n",
            "   ----- ---------------------------------- 6.3/43.6 MB 2.5 MB/s eta 0:00:15\n",
            "   ------ --------------------------------- 6.6/43.6 MB 2.5 MB/s eta 0:00:16\n",
            "   ------ --------------------------------- 7.1/43.6 MB 2.4 MB/s eta 0:00:16\n",
            "   ------ --------------------------------- 7.6/43.6 MB 2.4 MB/s eta 0:00:16\n",
            "   ------- -------------------------------- 7.9/43.6 MB 2.4 MB/s eta 0:00:16\n",
            "   ------- -------------------------------- 8.4/43.6 MB 2.4 MB/s eta 0:00:15\n",
            "   -------- ------------------------------- 9.2/43.6 MB 2.4 MB/s eta 0:00:15\n",
            "   -------- ------------------------------- 9.7/43.6 MB 2.4 MB/s eta 0:00:15\n",
            "   --------- ------------------------------ 10.2/43.6 MB 2.4 MB/s eta 0:00:14\n",
            "   --------- ------------------------------ 10.7/43.6 MB 2.4 MB/s eta 0:00:14\n",
            "   ---------- ----------------------------- 11.3/43.6 MB 2.4 MB/s eta 0:00:14\n",
            "   ---------- ----------------------------- 11.8/43.6 MB 2.4 MB/s eta 0:00:14\n",
            "   ----------- ---------------------------- 12.3/43.6 MB 2.4 MB/s eta 0:00:13\n",
            "   ----------- ---------------------------- 12.8/43.6 MB 2.4 MB/s eta 0:00:13\n",
            "   ------------ --------------------------- 13.4/43.6 MB 2.4 MB/s eta 0:00:13\n",
            "   ------------ --------------------------- 13.9/43.6 MB 2.4 MB/s eta 0:00:13\n",
            "   ------------- -------------------------- 14.4/43.6 MB 2.4 MB/s eta 0:00:13\n",
            "   ------------- -------------------------- 14.9/43.6 MB 2.4 MB/s eta 0:00:12\n",
            "   -------------- ------------------------- 15.5/43.6 MB 2.4 MB/s eta 0:00:12\n",
            "   -------------- ------------------------- 16.0/43.6 MB 2.4 MB/s eta 0:00:12\n",
            "   --------------- ------------------------ 16.5/43.6 MB 2.4 MB/s eta 0:00:12\n",
            "   --------------- ------------------------ 17.0/43.6 MB 2.4 MB/s eta 0:00:11\n",
            "   ---------------- ----------------------- 17.6/43.6 MB 2.4 MB/s eta 0:00:11\n",
            "   ---------------- ----------------------- 18.1/43.6 MB 2.4 MB/s eta 0:00:11\n",
            "   ----------------- ---------------------- 18.6/43.6 MB 2.4 MB/s eta 0:00:11\n",
            "   ----------------- ---------------------- 19.1/43.6 MB 2.4 MB/s eta 0:00:11\n",
            "   ------------------ --------------------- 19.7/43.6 MB 2.4 MB/s eta 0:00:10\n",
            "   ------------------ --------------------- 19.9/43.6 MB 2.4 MB/s eta 0:00:10\n",
            "   ------------------ --------------------- 20.4/43.6 MB 2.4 MB/s eta 0:00:10\n",
            "   ------------------- -------------------- 21.0/43.6 MB 2.4 MB/s eta 0:00:10\n",
            "   ------------------- -------------------- 21.8/43.6 MB 2.4 MB/s eta 0:00:10\n",
            "   -------------------- ------------------- 22.3/43.6 MB 2.4 MB/s eta 0:00:09\n",
            "   -------------------- ------------------- 22.8/43.6 MB 2.4 MB/s eta 0:00:09\n",
            "   --------------------- ------------------ 23.3/43.6 MB 2.4 MB/s eta 0:00:09\n",
            "   --------------------- ------------------ 23.9/43.6 MB 2.4 MB/s eta 0:00:09\n",
            "   ---------------------- ----------------- 24.4/43.6 MB 2.4 MB/s eta 0:00:08\n",
            "   ---------------------- ----------------- 24.6/43.6 MB 2.4 MB/s eta 0:00:08\n",
            "   ----------------------- ---------------- 25.2/43.6 MB 2.4 MB/s eta 0:00:08\n",
            "   ----------------------- ---------------- 25.7/43.6 MB 2.4 MB/s eta 0:00:08\n",
            "   ------------------------ --------------- 26.2/43.6 MB 2.4 MB/s eta 0:00:08\n",
            "   ------------------------ --------------- 26.7/43.6 MB 2.4 MB/s eta 0:00:07\n",
            "   ------------------------- -------------- 27.5/43.6 MB 2.4 MB/s eta 0:00:07\n",
            "   ------------------------- -------------- 27.8/43.6 MB 2.4 MB/s eta 0:00:07\n",
            "   ------------------------- -------------- 28.3/43.6 MB 2.4 MB/s eta 0:00:07\n",
            "   -------------------------- ------------- 28.8/43.6 MB 2.4 MB/s eta 0:00:07\n",
            "   -------------------------- ------------- 29.4/43.6 MB 2.4 MB/s eta 0:00:06\n",
            "   --------------------------- ------------ 29.9/43.6 MB 2.4 MB/s eta 0:00:06\n",
            "   --------------------------- ------------ 30.4/43.6 MB 2.4 MB/s eta 0:00:06\n",
            "   ---------------------------- ----------- 30.9/43.6 MB 2.4 MB/s eta 0:00:06\n",
            "   ---------------------------- ----------- 31.5/43.6 MB 2.4 MB/s eta 0:00:06\n",
            "   ----------------------------- ---------- 32.0/43.6 MB 2.4 MB/s eta 0:00:05\n",
            "   ----------------------------- ---------- 32.5/43.6 MB 2.4 MB/s eta 0:00:05\n",
            "   ------------------------------ --------- 33.0/43.6 MB 2.4 MB/s eta 0:00:05\n",
            "   ------------------------------ --------- 33.6/43.6 MB 2.4 MB/s eta 0:00:05\n",
            "   ------------------------------- -------- 34.1/43.6 MB 2.4 MB/s eta 0:00:04\n",
            "   ------------------------------- -------- 34.6/43.6 MB 2.4 MB/s eta 0:00:04\n",
            "   -------------------------------- ------- 35.1/43.6 MB 2.4 MB/s eta 0:00:04\n",
            "   -------------------------------- ------- 35.7/43.6 MB 2.4 MB/s eta 0:00:04\n",
            "   --------------------------------- ------ 36.2/43.6 MB 2.4 MB/s eta 0:00:04\n",
            "   --------------------------------- ------ 36.7/43.6 MB 2.4 MB/s eta 0:00:03\n",
            "   ---------------------------------- ----- 37.2/43.6 MB 2.4 MB/s eta 0:00:03\n",
            "   ---------------------------------- ----- 37.7/43.6 MB 2.4 MB/s eta 0:00:03\n",
            "   ----------------------------------- ---- 38.3/43.6 MB 2.4 MB/s eta 0:00:03\n",
            "   ----------------------------------- ---- 38.5/43.6 MB 2.4 MB/s eta 0:00:03\n",
            "   ------------------------------------ --- 39.3/43.6 MB 2.4 MB/s eta 0:00:02\n",
            "   ------------------------------------ --- 39.8/43.6 MB 2.4 MB/s eta 0:00:02\n",
            "   ------------------------------------ --- 40.1/43.6 MB 2.4 MB/s eta 0:00:02\n",
            "   ------------------------------------- -- 40.6/43.6 MB 2.4 MB/s eta 0:00:02\n",
            "   ------------------------------------- -- 41.2/43.6 MB 2.4 MB/s eta 0:00:02\n",
            "   -------------------------------------- - 41.9/43.6 MB 2.4 MB/s eta 0:00:01\n",
            "   -------------------------------------- - 42.2/43.6 MB 2.4 MB/s eta 0:00:01\n",
            "   ---------------------------------------  42.7/43.6 MB 2.4 MB/s eta 0:00:01\n",
            "   ---------------------------------------  43.3/43.6 MB 2.4 MB/s eta 0:00:01\n",
            "   ---------------------------------------- 43.6/43.6 MB 2.4 MB/s eta 0:00:00\n",
            "Using cached threadpoolctl-3.5.0-py3-none-any.whl (18 kB)\n",
            "Installing collected packages: threadpoolctl, numpy, joblib, scipy, scikit-learn\n",
            "Successfully installed joblib-1.4.2 numpy-2.2.1 scikit-learn-1.6.0 scipy-1.15.0 threadpoolctl-3.5.0\n",
            "Note: you may need to restart the kernel to use updated packages.\n"
          ]
        }
      ],
      "source": [
        "pip install scikit-learn"
      ]
    },
    {
      "cell_type": "code",
      "execution_count": 47,
      "metadata": {
        "colab": {
          "base_uri": "https://localhost:8080/"
        },
        "id": "IeTMizvASkHH",
        "outputId": "25490938-b6c6-426f-bcee-3e5d0b84906c"
      },
      "outputs": [
        {
          "name": "stdout",
          "output_type": "stream",
          "text": [
            "Cluster 3\n",
            "Cluster 0: zuhro, zul, 0110\n",
            "Cluster 1: zuhro, zul, 0110\n",
            "Cluster 2: zuhro, zul, 0110\n",
            "Cluster 4\n",
            "Cluster 0: zuhro, zul, 0110\n",
            "Cluster 1: zuhro, zul, 0110\n",
            "Cluster 2: zuhro, zul, 0110\n",
            "Cluster 3: zuhro, zul, 0110\n",
            "Cluster 5\n",
            "Cluster 0: zuhro, zul, 0110\n",
            "Cluster 1: zuhro, zul, 0110\n",
            "Cluster 2: zuhro, zul, 0110\n",
            "Cluster 3: zuhro, zul, 0110\n",
            "Cluster 4: zuhro, zul, 0110\n"
          ]
        }
      ],
      "source": [
        "from sklearn.feature_extraction.text import TfidfVectorizer\n",
        "from sklearn.cluster import KMeans\n",
        "from sklearn.metrics import silhouette_score\n",
        "\n",
        "# Membaca data\n",
        "with open('data_group_cleaned.txt', 'r', encoding='utf-8') as file:\n",
        "    data = file.readlines()\n",
        "\n",
        "# TF-IDF\n",
        "vectorizer = TfidfVectorizer(stop_words='english')\n",
        "X = vectorizer.fit_transform(data)\n",
        "\n",
        "# KMeans Clustering\n",
        "for n_clusters in [3, 4, 5]:\n",
        "    kmeans = KMeans(n_clusters=n_clusters, random_state=42)\n",
        "    labels = kmeans.fit_predict(X)\n",
        "\n",
        "    print(f\"Cluster {n_clusters}\")\n",
        "    terms = vectorizer.get_feature_names_out()\n",
        "    for i in range(n_clusters):\n",
        "        top_terms = [terms[ind] for ind in kmeans.cluster_centers_.argsort()[0][-3:]]\n",
        "        print(f\"Cluster {i}: {', '.join(top_terms)}\")\n"
      ]
    },
    {
      "cell_type": "code",
      "execution_count": 48,
      "metadata": {
        "colab": {
          "base_uri": "https://localhost:8080/"
        },
        "id": "1rk3xHfnSnKI",
        "outputId": "6404842e-31d9-4611-e833-3e21e84a86e7"
      },
      "outputs": [
        {
          "name": "stdout",
          "output_type": "stream",
          "text": [
            "Laporan HTML tersimpan di: laporan.html\n"
          ]
        }
      ],
      "source": [
        "html_content = f\"\"\"\n",
        "<!DOCTYPE html>\n",
        "<html lang=\"en\">\n",
        "<head>\n",
        "    <meta charset=\"UTF-8\">\n",
        "    <meta name=\"viewport\" content=\"width=device-width, initial-scale=1.0\">\n",
        "    <title>Laporan Clustering</title>\n",
        "    <style>\n",
        "        body {{ font-family: Arial, sans-serif; margin: 20px; }}\n",
        "        h1 {{ color: #2c3e50; }}\n",
        "        .cluster {{ margin-bottom: 20px; }}\n",
        "    </style>\n",
        "</head>\n",
        "<body>\n",
        "    <h1>Laporan Hasil Clustering</h1>\n",
        "    <p>Data diproses dan dianalisis dengan metode TF-IDF dan algoritma KMeans untuk membuat 3, 4, dan 5 klaster.</p>\n",
        "    <h2>Analisis</h2>\n",
        "    <div>\n",
        "        <h3>Hasil Clustering (3 Klaster)</h3>\n",
        "        <p>... Analisis dan kata teratas ...</p>\n",
        "        <h3>Hasil Clustering (4 Klaster)</h3>\n",
        "        <p>... Analisis dan kata teratas ...</p>\n",
        "        <h3>Hasil Clustering (5 Klaster)</h3>\n",
        "        <p>... Analisis dan kata teratas ...</p>\n",
        "    </div>\n",
        "</body>\n",
        "</html>\n",
        "\"\"\"\n",
        "\n",
        "report_file = \"laporan.html\"\n",
        "with open(report_file, 'w', encoding='utf-8') as file:\n",
        "    file.write(html_content)\n",
        "\n",
        "print(f\"Laporan HTML tersimpan di: {report_file}\")\n"
      ]
    },
    {
      "cell_type": "code",
      "execution_count": null,
      "metadata": {
        "id": "SMGEoA1OSwE9"
      },
      "outputs": [],
      "source": []
    }
  ],
  "metadata": {
    "colab": {
      "provenance": []
    },
    "kernelspec": {
      "display_name": "Python 3",
      "name": "python3"
    },
    "language_info": {
      "codemirror_mode": {
        "name": "ipython",
        "version": 3
      },
      "file_extension": ".py",
      "mimetype": "text/x-python",
      "name": "python",
      "nbconvert_exporter": "python",
      "pygments_lexer": "ipython3",
      "version": "3.12.8"
    }
  },
  "nbformat": 4,
  "nbformat_minor": 0
}
